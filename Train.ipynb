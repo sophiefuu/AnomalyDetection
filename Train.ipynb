{
 "metadata": {
  "language_info": {
   "codemirror_mode": {
    "name": "ipython",
    "version": 3
   },
   "file_extension": ".py",
   "mimetype": "text/x-python",
   "name": "python",
   "nbconvert_exporter": "python",
   "pygments_lexer": "ipython3",
   "version": "3.8.5-final"
  },
  "orig_nbformat": 2,
  "kernelspec": {
   "name": "python3",
   "display_name": "Python 3",
   "language": "python"
  }
 },
 "nbformat": 4,
 "nbformat_minor": 2,
 "cells": [
  {
   "cell_type": "code",
   "execution_count": null,
   "metadata": {},
   "outputs": [],
   "source": [
    "from Functions import extractData, correlation\n",
    "import os\n",
    "import pandas as pd\n",
    "import numpy as np\n",
    "import seaborn as sns\n",
    "import matplotlib.pyplot as plt\n",
    "import pickle as pkl\n",
    "import datetime\n",
    "###Feature Extraction\n",
    "from tsfresh import extract_features\n",
    "from tsfresh.utilities.dataframe_functions import roll_time_series\n",
    "from tsfresh.utilities.dataframe_functions import impute\n",
    "from tsfresh.feature_extraction.settings import MinimalFCParameters, from_columns\n",
    "###SCALING\n",
    "from sklearn.preprocessing import MinMaxScaler\n",
    "###MODEL\n",
    "from keras.layers import Input, Dense, LSTM, TimeDistributed, RepeatVector\n",
    "from keras.models import Model\n",
    "from keras import regularizers\n",
    "from keras.callbacks import EarlyStopping"
   ]
  },
  {
   "cell_type": "code",
   "execution_count": null,
   "metadata": {},
   "outputs": [],
   "source": [
    "### select number of valve\n",
    "n = 5"
   ]
  },
  {
   "cell_type": "code",
   "execution_count": null,
   "metadata": {},
   "outputs": [],
   "source": [
    "### select training period\n",
    "start = '2019-12-03 00:00:00'\n",
    "end = '2019-12-10 23:55:00'"
   ]
  },
  {
   "cell_type": "code",
   "execution_count": null,
   "metadata": {},
   "outputs": [],
   "source": [
    "### Creating directory\n",
    "dirs = \"/Valve\" + str(n)+ \"/\"\n",
    "mydir = os.path.join(dirs, datetime.datetime.now().strftime('%Y/%m/%d_%H-%M-%S'))\n",
    "os.makedirs(mydir)"
   ]
  },
  {
   "cell_type": "code",
   "execution_count": null,
   "metadata": {},
   "outputs": [],
   "source": [
    "### import data\n",
    "df5_train = extractData(n, start, end)"
   ]
  },
  {
   "cell_type": "code",
   "execution_count": null,
   "metadata": {},
   "outputs": [],
   "source": [
    "### data segmentation - rolled window\n",
    "window_size = 60\n",
    "df5_train_rolled = roll_time_series(df5_train, column_id=\"id\", column_sort=\"date\",column_kind=None, rolling_direction=1, max_timeshift=(window_size-1))"
   ]
  },
  {
   "cell_type": "code",
   "execution_count": null,
   "metadata": {},
   "outputs": [],
   "source": [
    "### extract minimal set of features\n",
    "settings_minimal = MinimalFCParameters()\n",
    "df5_train_feat = extract_features(df5_train_rolled , column_id='id', column_sort='date', n_jobs=0, default_fc_parameters=settings_minimal, impute_function=impute)\n",
    "df5_train_filtered = correlation(df5_train_feat, 0.99)"
   ]
  },
  {
   "cell_type": "code",
   "execution_count": null,
   "metadata": {},
   "outputs": [],
   "source": [
    "### reduced feature extraction\n",
    "kind_to_fc_parameters = from_columns(df5_train_filtered)\n",
    "df5_train_min = extract_features(df5_train_rolled, column_id='id', column_sort='date', n_jobs=0, kind_to_fc_parameters=kind_to_fc_parameters, impute_function=impute)"
   ]
  },
  {
   "cell_type": "code",
   "execution_count": null,
   "metadata": {},
   "outputs": [],
   "source": [
    "### save parameters\n",
    "with open(mydir+ \"/parameters.pkl\", \"wb\") as outfile:\n",
    "   pkl.dump(kind_to_fc_parameters, outfile)"
   ]
  },
  {
   "cell_type": "code",
   "execution_count": null,
   "metadata": {},
   "outputs": [],
   "source": [
    "### scale Data\n",
    "scaler = MinMaxScaler()\n",
    "X_train = scaler.fit_transform(df5_train_min)"
   ]
  },
  {
   "cell_type": "code",
   "execution_count": null,
   "metadata": {},
   "outputs": [],
   "source": [
    "### reshaped data to 3D tensor\n",
    "X_train = X_train.reshape(X_train.shape[0], 1, X_train.shape[1])"
   ]
  },
  {
   "cell_type": "code",
   "execution_count": null,
   "metadata": {},
   "outputs": [],
   "source": [
    "### define the autoencoder network model\n",
    "def autoencoder_model_LSTM(X):\n",
    "    inputs = Input(shape=(X.shape[1], X.shape[2]))\n",
    "    L1 = LSTM(10, activation= 'softmax', return_sequences=True,\n",
    "              kernel_regularizer=regularizers.l2(0.001), dropout=0.5)(inputs)\n",
    "    L2 = LSTM(2, activation= 'softmax', return_sequences=False, dropout=0.5)(L1)\n",
    "    L3 = RepeatVector(X_train.shape[1])(L2)\n",
    "    L4 = LSTM(2, activation= 'softmax', return_sequences=True)(L3)\n",
    "    L5 = LSTM(10, activation= 'softmax', return_sequences=True)(L4)\n",
    "    output = TimeDistributed(Dense(X_train.shape[2]))(L5)\n",
    "    model = Model(inputs=inputs, outputs=output)\n",
    "    return model"
   ]
  },
  {
   "cell_type": "code",
   "execution_count": null,
   "metadata": {},
   "outputs": [],
   "source": [
    "### create the autoencoder model\n",
    "model = autoencoder_model_LSTM(X_train)\n",
    "model.compile(optimizer='adam', loss='mse', metrics=['accuracy'])\n",
    "model.summary()"
   ]
  },
  {
   "cell_type": "code",
   "execution_count": null,
   "metadata": {},
   "outputs": [],
   "source": [
    "### Early Stopping\n",
    "es = EarlyStopping(monitor='val_loss', min_delta=0, patience=3, verbose=0.1, mode='auto')"
   ]
  },
  {
   "cell_type": "code",
   "execution_count": null,
   "metadata": {},
   "outputs": [],
   "source": [
    "#### fit the model to the data\n",
    "nb_epochs = 100\n",
    "batch_size = 60\n",
    "history = model.fit(X_train, X_train, epochs=nb_epochs,batch_size= batch_size,  validation_split=0.2, callbacks=[es]).history"
   ]
  },
  {
   "cell_type": "code",
   "execution_count": null,
   "metadata": {},
   "outputs": [],
   "source": [
    "### plot the training losses\n",
    "fig, ax = plt.subplots()\n",
    "ax.plot(history['loss'], 'b', label='Train', linewidth=2)\n",
    "ax.plot(history['val_loss'], 'r', label='Validation', linewidth=2)\n",
    "ax.set_title('Model loss', fontsize=16)\n",
    "ax.set_ylabel('Loss (mse)')\n",
    "ax.set_xlabel('Epoch')\n",
    "ax.legend(loc='upper right')\n",
    "plt.show()"
   ]
  },
  {
   "cell_type": "code",
   "execution_count": null,
   "metadata": {},
   "outputs": [],
   "source": [
    "### plot the loss distribution of the training set\n",
    "X_pred1 = model.predict(X_train)\n",
    "X_pred1 = X_pred1.reshape(X_pred1.shape[0], X_pred1.shape[2])\n",
    "X_pred1 = pd.DataFrame(X_pred1, columns=df5_train_min.columns)\n",
    "X_pred1.index = df5_train_min.index\n",
    "\n",
    "scored = pd.DataFrame(index=df5_train_min.index)\n",
    "Xtrain = X_train.reshape(X_train.shape[0], X_train.shape[2])\n",
    "scored['Loss_mse'] = (np.square(X_pred1 - Xtrain)).mean(axis=1)\n",
    "plt.figure(figsize=(16,9), dpi=80)\n",
    "plt.title('Loss Distribution', fontsize=16)\n",
    "sns.distplot(scored['Loss_mse'], kde= True, color = 'blue')\n",
    "plt.show()"
   ]
  },
  {
   "cell_type": "code",
   "execution_count": 4,
   "metadata": {},
   "outputs": [
    {
     "output_type": "execute_result",
     "data": {
      "text/plain": [
       "<matplotlib.image.AxesImage at 0x16905c78910>"
      ]
     },
     "metadata": {},
     "execution_count": 4
    },
    {
     "output_type": "display_data",
     "data": {
      "text/plain": "<Figure size 432x288 with 1 Axes>",
      "image/svg+xml": "<?xml version=\"1.0\" encoding=\"utf-8\" standalone=\"no\"?>\r\n<!DOCTYPE svg PUBLIC \"-//W3C//DTD SVG 1.1//EN\"\r\n  \"http://www.w3.org/Graphics/SVG/1.1/DTD/svg11.dtd\">\r\n<!-- Created with matplotlib (https://matplotlib.org/) -->\r\n<svg height=\"248.862198pt\" version=\"1.1\" viewBox=\"0 0 375.2875 248.862198\" width=\"375.2875pt\" xmlns=\"http://www.w3.org/2000/svg\" xmlns:xlink=\"http://www.w3.org/1999/xlink\">\r\n <metadata>\r\n  <rdf:RDF xmlns:cc=\"http://creativecommons.org/ns#\" xmlns:dc=\"http://purl.org/dc/elements/1.1/\" xmlns:rdf=\"http://www.w3.org/1999/02/22-rdf-syntax-ns#\">\r\n   <cc:Work>\r\n    <dc:type rdf:resource=\"http://purl.org/dc/dcmitype/StillImage\"/>\r\n    <dc:date>2021-01-24T18:15:06.012750</dc:date>\r\n    <dc:format>image/svg+xml</dc:format>\r\n    <dc:creator>\r\n     <cc:Agent>\r\n      <dc:title>Matplotlib v3.3.2, https://matplotlib.org/</dc:title>\r\n     </cc:Agent>\r\n    </dc:creator>\r\n   </cc:Work>\r\n  </rdf:RDF>\r\n </metadata>\r\n <defs>\r\n  <style type=\"text/css\">*{stroke-linecap:butt;stroke-linejoin:round;}</style>\r\n </defs>\r\n <g id=\"figure_1\">\r\n  <g id=\"patch_1\">\r\n   <path d=\"M 0 248.862198 \r\nL 375.2875 248.862198 \r\nL 375.2875 0 \r\nL 0 0 \r\nz\r\n\" style=\"fill:none;\"/>\r\n  </g>\r\n  <g id=\"axes_1\">\r\n   <g id=\"patch_2\">\r\n    <path d=\"M 33.2875 224.984073 \r\nL 368.0875 224.984073 \r\nL 368.0875 10.846482 \r\nL 33.2875 10.846482 \r\nz\r\n\" style=\"fill:#ffffff;\"/>\r\n   </g>\r\n   <g clip-path=\"url(#pd84809cb56)\">\r\n    <image height=\"215\" id=\"image72e2bdde66\" transform=\"scale(1 -1)translate(0 -215)\" width=\"335\" x=\"33.2875\" xlink:href=\"data:image/png;base64,\r\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\" y=\"-9.984073\"/>\r\n   </g>\r\n   <g id=\"matplotlib.axis_1\">\r\n    <g id=\"xtick_1\">\r\n     <g id=\"line2d_1\">\r\n      <defs>\r\n       <path d=\"M 0 0 \r\nL 0 3.5 \r\n\" id=\"m2ac714b4a4\" style=\"stroke:#000000;stroke-width:0.8;\"/>\r\n      </defs>\r\n      <g>\r\n       <use style=\"stroke:#000000;stroke-width:0.8;\" x=\"33.440237\" xlink:href=\"#m2ac714b4a4\" y=\"224.984073\"/>\r\n      </g>\r\n     </g>\r\n     <g id=\"text_1\">\r\n      <!-- 0 -->\r\n      <g transform=\"translate(30.258987 239.58251)scale(0.1 -0.1)\">\r\n       <defs>\r\n        <path d=\"M 31.78125 66.40625 \r\nQ 24.171875 66.40625 20.328125 58.90625 \r\nQ 16.5 51.421875 16.5 36.375 \r\nQ 16.5 21.390625 20.328125 13.890625 \r\nQ 24.171875 6.390625 31.78125 6.390625 \r\nQ 39.453125 6.390625 43.28125 13.890625 \r\nQ 47.125 21.390625 47.125 36.375 \r\nQ 47.125 51.421875 43.28125 58.90625 \r\nQ 39.453125 66.40625 31.78125 66.40625 \r\nz\r\nM 31.78125 74.21875 \r\nQ 44.046875 74.21875 50.515625 64.515625 \r\nQ 56.984375 54.828125 56.984375 36.375 \r\nQ 56.984375 17.96875 50.515625 8.265625 \r\nQ 44.046875 -1.421875 31.78125 -1.421875 \r\nQ 19.53125 -1.421875 13.0625 8.265625 \r\nQ 6.59375 17.96875 6.59375 36.375 \r\nQ 6.59375 54.828125 13.0625 64.515625 \r\nQ 19.53125 74.21875 31.78125 74.21875 \r\nz\r\n\" id=\"DejaVuSans-48\"/>\r\n       </defs>\r\n       <use xlink:href=\"#DejaVuSans-48\"/>\r\n      </g>\r\n     </g>\r\n    </g>\r\n    <g id=\"xtick_2\">\r\n     <g id=\"line2d_2\">\r\n      <g>\r\n       <use style=\"stroke:#000000;stroke-width:0.8;\" x=\"94.535128\" xlink:href=\"#m2ac714b4a4\" y=\"224.984073\"/>\r\n      </g>\r\n     </g>\r\n     <g id=\"text_2\">\r\n      <!-- 200 -->\r\n      <g transform=\"translate(84.991378 239.58251)scale(0.1 -0.1)\">\r\n       <defs>\r\n        <path d=\"M 19.1875 8.296875 \r\nL 53.609375 8.296875 \r\nL 53.609375 0 \r\nL 7.328125 0 \r\nL 7.328125 8.296875 \r\nQ 12.9375 14.109375 22.625 23.890625 \r\nQ 32.328125 33.6875 34.8125 36.53125 \r\nQ 39.546875 41.84375 41.421875 45.53125 \r\nQ 43.3125 49.21875 43.3125 52.78125 \r\nQ 43.3125 58.59375 39.234375 62.25 \r\nQ 35.15625 65.921875 28.609375 65.921875 \r\nQ 23.96875 65.921875 18.8125 64.3125 \r\nQ 13.671875 62.703125 7.8125 59.421875 \r\nL 7.8125 69.390625 \r\nQ 13.765625 71.78125 18.9375 73 \r\nQ 24.125 74.21875 28.421875 74.21875 \r\nQ 39.75 74.21875 46.484375 68.546875 \r\nQ 53.21875 62.890625 53.21875 53.421875 \r\nQ 53.21875 48.921875 51.53125 44.890625 \r\nQ 49.859375 40.875 45.40625 35.40625 \r\nQ 44.1875 33.984375 37.640625 27.21875 \r\nQ 31.109375 20.453125 19.1875 8.296875 \r\nz\r\n\" id=\"DejaVuSans-50\"/>\r\n       </defs>\r\n       <use xlink:href=\"#DejaVuSans-50\"/>\r\n       <use x=\"63.623047\" xlink:href=\"#DejaVuSans-48\"/>\r\n       <use x=\"127.246094\" xlink:href=\"#DejaVuSans-48\"/>\r\n      </g>\r\n     </g>\r\n    </g>\r\n    <g id=\"xtick_3\">\r\n     <g id=\"line2d_3\">\r\n      <g>\r\n       <use style=\"stroke:#000000;stroke-width:0.8;\" x=\"155.630018\" xlink:href=\"#m2ac714b4a4\" y=\"224.984073\"/>\r\n      </g>\r\n     </g>\r\n     <g id=\"text_3\">\r\n      <!-- 400 -->\r\n      <g transform=\"translate(146.086268 239.58251)scale(0.1 -0.1)\">\r\n       <defs>\r\n        <path d=\"M 37.796875 64.3125 \r\nL 12.890625 25.390625 \r\nL 37.796875 25.390625 \r\nz\r\nM 35.203125 72.90625 \r\nL 47.609375 72.90625 \r\nL 47.609375 25.390625 \r\nL 58.015625 25.390625 \r\nL 58.015625 17.1875 \r\nL 47.609375 17.1875 \r\nL 47.609375 0 \r\nL 37.796875 0 \r\nL 37.796875 17.1875 \r\nL 4.890625 17.1875 \r\nL 4.890625 26.703125 \r\nz\r\n\" id=\"DejaVuSans-52\"/>\r\n       </defs>\r\n       <use xlink:href=\"#DejaVuSans-52\"/>\r\n       <use x=\"63.623047\" xlink:href=\"#DejaVuSans-48\"/>\r\n       <use x=\"127.246094\" xlink:href=\"#DejaVuSans-48\"/>\r\n      </g>\r\n     </g>\r\n    </g>\r\n    <g id=\"xtick_4\">\r\n     <g id=\"line2d_4\">\r\n      <g>\r\n       <use style=\"stroke:#000000;stroke-width:0.8;\" x=\"216.724909\" xlink:href=\"#m2ac714b4a4\" y=\"224.984073\"/>\r\n      </g>\r\n     </g>\r\n     <g id=\"text_4\">\r\n      <!-- 600 -->\r\n      <g transform=\"translate(207.181159 239.58251)scale(0.1 -0.1)\">\r\n       <defs>\r\n        <path d=\"M 33.015625 40.375 \r\nQ 26.375 40.375 22.484375 35.828125 \r\nQ 18.609375 31.296875 18.609375 23.390625 \r\nQ 18.609375 15.53125 22.484375 10.953125 \r\nQ 26.375 6.390625 33.015625 6.390625 \r\nQ 39.65625 6.390625 43.53125 10.953125 \r\nQ 47.40625 15.53125 47.40625 23.390625 \r\nQ 47.40625 31.296875 43.53125 35.828125 \r\nQ 39.65625 40.375 33.015625 40.375 \r\nz\r\nM 52.59375 71.296875 \r\nL 52.59375 62.3125 \r\nQ 48.875 64.0625 45.09375 64.984375 \r\nQ 41.3125 65.921875 37.59375 65.921875 \r\nQ 27.828125 65.921875 22.671875 59.328125 \r\nQ 17.53125 52.734375 16.796875 39.40625 \r\nQ 19.671875 43.65625 24.015625 45.921875 \r\nQ 28.375 48.1875 33.59375 48.1875 \r\nQ 44.578125 48.1875 50.953125 41.515625 \r\nQ 57.328125 34.859375 57.328125 23.390625 \r\nQ 57.328125 12.15625 50.6875 5.359375 \r\nQ 44.046875 -1.421875 33.015625 -1.421875 \r\nQ 20.359375 -1.421875 13.671875 8.265625 \r\nQ 6.984375 17.96875 6.984375 36.375 \r\nQ 6.984375 53.65625 15.1875 63.9375 \r\nQ 23.390625 74.21875 37.203125 74.21875 \r\nQ 40.921875 74.21875 44.703125 73.484375 \r\nQ 48.484375 72.75 52.59375 71.296875 \r\nz\r\n\" id=\"DejaVuSans-54\"/>\r\n       </defs>\r\n       <use xlink:href=\"#DejaVuSans-54\"/>\r\n       <use x=\"63.623047\" xlink:href=\"#DejaVuSans-48\"/>\r\n       <use x=\"127.246094\" xlink:href=\"#DejaVuSans-48\"/>\r\n      </g>\r\n     </g>\r\n    </g>\r\n    <g id=\"xtick_5\">\r\n     <g id=\"line2d_5\">\r\n      <g>\r\n       <use style=\"stroke:#000000;stroke-width:0.8;\" x=\"277.819799\" xlink:href=\"#m2ac714b4a4\" y=\"224.984073\"/>\r\n      </g>\r\n     </g>\r\n     <g id=\"text_5\">\r\n      <!-- 800 -->\r\n      <g transform=\"translate(268.276049 239.58251)scale(0.1 -0.1)\">\r\n       <defs>\r\n        <path d=\"M 31.78125 34.625 \r\nQ 24.75 34.625 20.71875 30.859375 \r\nQ 16.703125 27.09375 16.703125 20.515625 \r\nQ 16.703125 13.921875 20.71875 10.15625 \r\nQ 24.75 6.390625 31.78125 6.390625 \r\nQ 38.8125 6.390625 42.859375 10.171875 \r\nQ 46.921875 13.96875 46.921875 20.515625 \r\nQ 46.921875 27.09375 42.890625 30.859375 \r\nQ 38.875 34.625 31.78125 34.625 \r\nz\r\nM 21.921875 38.8125 \r\nQ 15.578125 40.375 12.03125 44.71875 \r\nQ 8.5 49.078125 8.5 55.328125 \r\nQ 8.5 64.0625 14.71875 69.140625 \r\nQ 20.953125 74.21875 31.78125 74.21875 \r\nQ 42.671875 74.21875 48.875 69.140625 \r\nQ 55.078125 64.0625 55.078125 55.328125 \r\nQ 55.078125 49.078125 51.53125 44.71875 \r\nQ 48 40.375 41.703125 38.8125 \r\nQ 48.828125 37.15625 52.796875 32.3125 \r\nQ 56.78125 27.484375 56.78125 20.515625 \r\nQ 56.78125 9.90625 50.3125 4.234375 \r\nQ 43.84375 -1.421875 31.78125 -1.421875 \r\nQ 19.734375 -1.421875 13.25 4.234375 \r\nQ 6.78125 9.90625 6.78125 20.515625 \r\nQ 6.78125 27.484375 10.78125 32.3125 \r\nQ 14.796875 37.15625 21.921875 38.8125 \r\nz\r\nM 18.3125 54.390625 \r\nQ 18.3125 48.734375 21.84375 45.5625 \r\nQ 25.390625 42.390625 31.78125 42.390625 \r\nQ 38.140625 42.390625 41.71875 45.5625 \r\nQ 45.3125 48.734375 45.3125 54.390625 \r\nQ 45.3125 60.0625 41.71875 63.234375 \r\nQ 38.140625 66.40625 31.78125 66.40625 \r\nQ 25.390625 66.40625 21.84375 63.234375 \r\nQ 18.3125 60.0625 18.3125 54.390625 \r\nz\r\n\" id=\"DejaVuSans-56\"/>\r\n       </defs>\r\n       <use xlink:href=\"#DejaVuSans-56\"/>\r\n       <use x=\"63.623047\" xlink:href=\"#DejaVuSans-48\"/>\r\n       <use x=\"127.246094\" xlink:href=\"#DejaVuSans-48\"/>\r\n      </g>\r\n     </g>\r\n    </g>\r\n    <g id=\"xtick_6\">\r\n     <g id=\"line2d_6\">\r\n      <g>\r\n       <use style=\"stroke:#000000;stroke-width:0.8;\" x=\"338.91469\" xlink:href=\"#m2ac714b4a4\" y=\"224.984073\"/>\r\n      </g>\r\n     </g>\r\n     <g id=\"text_6\">\r\n      <!-- 1000 -->\r\n      <g transform=\"translate(326.18969 239.58251)scale(0.1 -0.1)\">\r\n       <defs>\r\n        <path d=\"M 12.40625 8.296875 \r\nL 28.515625 8.296875 \r\nL 28.515625 63.921875 \r\nL 10.984375 60.40625 \r\nL 10.984375 69.390625 \r\nL 28.421875 72.90625 \r\nL 38.28125 72.90625 \r\nL 38.28125 8.296875 \r\nL 54.390625 8.296875 \r\nL 54.390625 0 \r\nL 12.40625 0 \r\nz\r\n\" id=\"DejaVuSans-49\"/>\r\n       </defs>\r\n       <use xlink:href=\"#DejaVuSans-49\"/>\r\n       <use x=\"63.623047\" xlink:href=\"#DejaVuSans-48\"/>\r\n       <use x=\"127.246094\" xlink:href=\"#DejaVuSans-48\"/>\r\n       <use x=\"190.869141\" xlink:href=\"#DejaVuSans-48\"/>\r\n      </g>\r\n     </g>\r\n    </g>\r\n   </g>\r\n   <g id=\"matplotlib.axis_2\">\r\n    <g id=\"ytick_1\">\r\n     <g id=\"line2d_7\">\r\n      <defs>\r\n       <path d=\"M 0 0 \r\nL -3.5 0 \r\n\" id=\"m30c9679f4d\" style=\"stroke:#000000;stroke-width:0.8;\"/>\r\n      </defs>\r\n      <g>\r\n       <use style=\"stroke:#000000;stroke-width:0.8;\" x=\"33.2875\" xlink:href=\"#m30c9679f4d\" y=\"10.999219\"/>\r\n      </g>\r\n     </g>\r\n     <g id=\"text_7\">\r\n      <!-- 0 -->\r\n      <g transform=\"translate(19.925 14.798437)scale(0.1 -0.1)\">\r\n       <use xlink:href=\"#DejaVuSans-48\"/>\r\n      </g>\r\n     </g>\r\n    </g>\r\n    <g id=\"ytick_2\">\r\n     <g id=\"line2d_8\">\r\n      <g>\r\n       <use style=\"stroke:#000000;stroke-width:0.8;\" x=\"33.2875\" xlink:href=\"#m30c9679f4d\" y=\"41.546664\"/>\r\n      </g>\r\n     </g>\r\n     <g id=\"text_8\">\r\n      <!-- 100 -->\r\n      <g transform=\"translate(7.2 45.345883)scale(0.1 -0.1)\">\r\n       <use xlink:href=\"#DejaVuSans-49\"/>\r\n       <use x=\"63.623047\" xlink:href=\"#DejaVuSans-48\"/>\r\n       <use x=\"127.246094\" xlink:href=\"#DejaVuSans-48\"/>\r\n      </g>\r\n     </g>\r\n    </g>\r\n    <g id=\"ytick_3\">\r\n     <g id=\"line2d_9\">\r\n      <g>\r\n       <use style=\"stroke:#000000;stroke-width:0.8;\" x=\"33.2875\" xlink:href=\"#m30c9679f4d\" y=\"72.094109\"/>\r\n      </g>\r\n     </g>\r\n     <g id=\"text_9\">\r\n      <!-- 200 -->\r\n      <g transform=\"translate(7.2 75.893328)scale(0.1 -0.1)\">\r\n       <use xlink:href=\"#DejaVuSans-50\"/>\r\n       <use x=\"63.623047\" xlink:href=\"#DejaVuSans-48\"/>\r\n       <use x=\"127.246094\" xlink:href=\"#DejaVuSans-48\"/>\r\n      </g>\r\n     </g>\r\n    </g>\r\n    <g id=\"ytick_4\">\r\n     <g id=\"line2d_10\">\r\n      <g>\r\n       <use style=\"stroke:#000000;stroke-width:0.8;\" x=\"33.2875\" xlink:href=\"#m30c9679f4d\" y=\"102.641555\"/>\r\n      </g>\r\n     </g>\r\n     <g id=\"text_10\">\r\n      <!-- 300 -->\r\n      <g transform=\"translate(7.2 106.440773)scale(0.1 -0.1)\">\r\n       <defs>\r\n        <path d=\"M 40.578125 39.3125 \r\nQ 47.65625 37.796875 51.625 33 \r\nQ 55.609375 28.21875 55.609375 21.1875 \r\nQ 55.609375 10.40625 48.1875 4.484375 \r\nQ 40.765625 -1.421875 27.09375 -1.421875 \r\nQ 22.515625 -1.421875 17.65625 -0.515625 \r\nQ 12.796875 0.390625 7.625 2.203125 \r\nL 7.625 11.71875 \r\nQ 11.71875 9.328125 16.59375 8.109375 \r\nQ 21.484375 6.890625 26.8125 6.890625 \r\nQ 36.078125 6.890625 40.9375 10.546875 \r\nQ 45.796875 14.203125 45.796875 21.1875 \r\nQ 45.796875 27.640625 41.28125 31.265625 \r\nQ 36.765625 34.90625 28.71875 34.90625 \r\nL 20.21875 34.90625 \r\nL 20.21875 43.015625 \r\nL 29.109375 43.015625 \r\nQ 36.375 43.015625 40.234375 45.921875 \r\nQ 44.09375 48.828125 44.09375 54.296875 \r\nQ 44.09375 59.90625 40.109375 62.90625 \r\nQ 36.140625 65.921875 28.71875 65.921875 \r\nQ 24.65625 65.921875 20.015625 65.03125 \r\nQ 15.375 64.15625 9.8125 62.3125 \r\nL 9.8125 71.09375 \r\nQ 15.4375 72.65625 20.34375 73.4375 \r\nQ 25.25 74.21875 29.59375 74.21875 \r\nQ 40.828125 74.21875 47.359375 69.109375 \r\nQ 53.90625 64.015625 53.90625 55.328125 \r\nQ 53.90625 49.265625 50.4375 45.09375 \r\nQ 46.96875 40.921875 40.578125 39.3125 \r\nz\r\n\" id=\"DejaVuSans-51\"/>\r\n       </defs>\r\n       <use xlink:href=\"#DejaVuSans-51\"/>\r\n       <use x=\"63.623047\" xlink:href=\"#DejaVuSans-48\"/>\r\n       <use x=\"127.246094\" xlink:href=\"#DejaVuSans-48\"/>\r\n      </g>\r\n     </g>\r\n    </g>\r\n    <g id=\"ytick_5\">\r\n     <g id=\"line2d_11\">\r\n      <g>\r\n       <use style=\"stroke:#000000;stroke-width:0.8;\" x=\"33.2875\" xlink:href=\"#m30c9679f4d\" y=\"133.189\"/>\r\n      </g>\r\n     </g>\r\n     <g id=\"text_11\">\r\n      <!-- 400 -->\r\n      <g transform=\"translate(7.2 136.988219)scale(0.1 -0.1)\">\r\n       <use xlink:href=\"#DejaVuSans-52\"/>\r\n       <use x=\"63.623047\" xlink:href=\"#DejaVuSans-48\"/>\r\n       <use x=\"127.246094\" xlink:href=\"#DejaVuSans-48\"/>\r\n      </g>\r\n     </g>\r\n    </g>\r\n    <g id=\"ytick_6\">\r\n     <g id=\"line2d_12\">\r\n      <g>\r\n       <use style=\"stroke:#000000;stroke-width:0.8;\" x=\"33.2875\" xlink:href=\"#m30c9679f4d\" y=\"163.736445\"/>\r\n      </g>\r\n     </g>\r\n     <g id=\"text_12\">\r\n      <!-- 500 -->\r\n      <g transform=\"translate(7.2 167.535664)scale(0.1 -0.1)\">\r\n       <defs>\r\n        <path d=\"M 10.796875 72.90625 \r\nL 49.515625 72.90625 \r\nL 49.515625 64.59375 \r\nL 19.828125 64.59375 \r\nL 19.828125 46.734375 \r\nQ 21.96875 47.46875 24.109375 47.828125 \r\nQ 26.265625 48.1875 28.421875 48.1875 \r\nQ 40.625 48.1875 47.75 41.5 \r\nQ 54.890625 34.8125 54.890625 23.390625 \r\nQ 54.890625 11.625 47.5625 5.09375 \r\nQ 40.234375 -1.421875 26.90625 -1.421875 \r\nQ 22.3125 -1.421875 17.546875 -0.640625 \r\nQ 12.796875 0.140625 7.71875 1.703125 \r\nL 7.71875 11.625 \r\nQ 12.109375 9.234375 16.796875 8.0625 \r\nQ 21.484375 6.890625 26.703125 6.890625 \r\nQ 35.15625 6.890625 40.078125 11.328125 \r\nQ 45.015625 15.765625 45.015625 23.390625 \r\nQ 45.015625 31 40.078125 35.4375 \r\nQ 35.15625 39.890625 26.703125 39.890625 \r\nQ 22.75 39.890625 18.8125 39.015625 \r\nQ 14.890625 38.140625 10.796875 36.28125 \r\nz\r\n\" id=\"DejaVuSans-53\"/>\r\n       </defs>\r\n       <use xlink:href=\"#DejaVuSans-53\"/>\r\n       <use x=\"63.623047\" xlink:href=\"#DejaVuSans-48\"/>\r\n       <use x=\"127.246094\" xlink:href=\"#DejaVuSans-48\"/>\r\n      </g>\r\n     </g>\r\n    </g>\r\n    <g id=\"ytick_7\">\r\n     <g id=\"line2d_13\">\r\n      <g>\r\n       <use style=\"stroke:#000000;stroke-width:0.8;\" x=\"33.2875\" xlink:href=\"#m30c9679f4d\" y=\"194.28389\"/>\r\n      </g>\r\n     </g>\r\n     <g id=\"text_13\">\r\n      <!-- 600 -->\r\n      <g transform=\"translate(7.2 198.083109)scale(0.1 -0.1)\">\r\n       <use xlink:href=\"#DejaVuSans-54\"/>\r\n       <use x=\"63.623047\" xlink:href=\"#DejaVuSans-48\"/>\r\n       <use x=\"127.246094\" xlink:href=\"#DejaVuSans-48\"/>\r\n      </g>\r\n     </g>\r\n    </g>\r\n    <g id=\"ytick_8\">\r\n     <g id=\"line2d_14\">\r\n      <g>\r\n       <use style=\"stroke:#000000;stroke-width:0.8;\" x=\"33.2875\" xlink:href=\"#m30c9679f4d\" y=\"224.831336\"/>\r\n      </g>\r\n     </g>\r\n     <g id=\"text_14\">\r\n      <!-- 700 -->\r\n      <g transform=\"translate(7.2 228.630554)scale(0.1 -0.1)\">\r\n       <defs>\r\n        <path d=\"M 8.203125 72.90625 \r\nL 55.078125 72.90625 \r\nL 55.078125 68.703125 \r\nL 28.609375 0 \r\nL 18.3125 0 \r\nL 43.21875 64.59375 \r\nL 8.203125 64.59375 \r\nz\r\n\" id=\"DejaVuSans-55\"/>\r\n       </defs>\r\n       <use xlink:href=\"#DejaVuSans-55\"/>\r\n       <use x=\"63.623047\" xlink:href=\"#DejaVuSans-48\"/>\r\n       <use x=\"127.246094\" xlink:href=\"#DejaVuSans-48\"/>\r\n      </g>\r\n     </g>\r\n    </g>\r\n   </g>\r\n   <g id=\"patch_3\">\r\n    <path d=\"M 33.2875 224.984073 \r\nL 33.2875 10.846482 \r\n\" style=\"fill:none;stroke:#000000;stroke-linecap:square;stroke-linejoin:miter;stroke-width:0.8;\"/>\r\n   </g>\r\n   <g id=\"patch_4\">\r\n    <path d=\"M 368.0875 224.984073 \r\nL 368.0875 10.846482 \r\n\" style=\"fill:none;stroke:#000000;stroke-linecap:square;stroke-linejoin:miter;stroke-width:0.8;\"/>\r\n   </g>\r\n   <g id=\"patch_5\">\r\n    <path d=\"M 33.2875 224.984073 \r\nL 368.0875 224.984073 \r\n\" style=\"fill:none;stroke:#000000;stroke-linecap:square;stroke-linejoin:miter;stroke-width:0.8;\"/>\r\n   </g>\r\n   <g id=\"patch_6\">\r\n    <path d=\"M 33.2875 10.846482 \r\nL 368.0875 10.846482 \r\n\" style=\"fill:none;stroke:#000000;stroke-linecap:square;stroke-linejoin:miter;stroke-width:0.8;\"/>\r\n   </g>\r\n  </g>\r\n </g>\r\n <defs>\r\n  <clipPath id=\"pd84809cb56\">\r\n   <rect height=\"214.137591\" width=\"334.8\" x=\"33.2875\" y=\"10.846482\"/>\r\n  </clipPath>\r\n </defs>\r\n</svg>\r\n",
      "image/png": "[encoded data removed]"
     },
     "metadata": {
      "needs_background": "light"
     }
    }
   ],
   "source": [
    "plt.imshow(img)"
   ]
  },
  {
   "cell_type": "code",
   "execution_count": null,
   "metadata": {},
   "outputs": [],
   "source": [
    "### Get reconstruction loss treshold\n",
    "threshold = np.max(scored['Loss_mse'])\n",
    "print(\"Reconstruction error threshold: \", threshold)\n",
    "### save threshold\n",
    "with open(mydir + \"/threshold.pkl\", \"wb\") as outfile:\n",
    "   pkl.dump(threshold, outfile)"
   ]
  },
  {
   "cell_type": "code",
   "execution_count": null,
   "metadata": {},
   "outputs": [],
   "source": [
    "### save all model information, including weights, in h5 format\n",
    "model.save(mydir + \"/model.h5\")\n",
    "print(\"Model saved\")"
   ]
  }
 ]
}